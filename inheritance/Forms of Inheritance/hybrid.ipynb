{
 "cells": [
  {
   "cell_type": "markdown",
   "metadata": {},
   "source": [
    "# Hybrid Inheritance\n",
    "When there is a combination of more than one form of inheritance, it is known as hybrid inheritance.\n",
    "\n",
    "Hybrid Inheritance is a blend of more than one type of inheritance. The class is derived from the two classes as in the multiple inheritance. However, one of the parent classes is not the base class. It is a derived class. This feature enables the user to utilize the feature of inheritance at its best\n",
    "\n",
    "## A more easy explaination\n",
    "Imagine a family tree where a child inherits traits from both parents, grandparents, and even aunts and uncles! That's kind of like hybrid inheritance in Python.\n",
    "\n",
    "Here's how it works:\n",
    "\n",
    "Mixing Multiple Inheritance and Multilevel Inheritance:\n",
    "\n",
    "Multiple inheritance means a child class can have multiple parent classes.\n",
    "Multilevel inheritance means a class inherits from another class that also inherits from another class.\n",
    "Hybrid inheritance combines both, creating a more complex inheritance structure.\n",
    "Grandparents, Parents, and Children (Classes):\n",
    "\n",
    "Think of base classes as \"grandparents,\" intermediate classes as \"parents,\" and the final derived class as the \"child.\"\n",
    "The child class inherits properties and methods from all its ancestors, forming a multi-branched family tree."
   ]
  },
  {
   "cell_type": "code",
   "execution_count": 1,
   "metadata": {},
   "outputs": [
    {
     "name": "stdout",
     "output_type": "stream",
     "text": [
      "Function of parent class.\n",
      "Function of child_1 class.\n",
      "Function of child_2 class.\n",
      "Function of child_3 class.\n"
     ]
    }
   ],
   "source": [
    "class Parent:\n",
    "  def f1(self):\n",
    "    print(\"Function of parent class.\")\n",
    "\n",
    "class Child_1(Parent): # This is hierarchical inheritance\n",
    "  def f2(self):\n",
    "    print(\"Function of child_1 class.\")\n",
    "\n",
    "class Child_2(Parent): # This is hierarchical inheritance\n",
    "  def f3(self):\n",
    "    print(\"Function of child_2 class.\")\n",
    "\n",
    "class Child_3(Child_1, Child_2): # This is multiple inheritance\n",
    "  def f4(self):\n",
    "    print(\"Function of child_3 class.\")\n",
    "\n",
    "obj = Child_3()\n",
    "obj.f1()\n",
    "obj.f2()\n",
    "obj.f3()\n",
    "obj.f4()"
   ]
  },
  {
   "cell_type": "markdown",
   "metadata": {},
   "source": [
    "## Here another example for better understanding:"
   ]
  },
  {
   "cell_type": "code",
   "execution_count": 2,
   "metadata": {},
   "outputs": [
    {
     "name": "stdout",
     "output_type": "stream",
     "text": [
      "I'm the grandparent!\n",
      "I'm the first parent!\n",
      "I'm the second parent!\n",
      "I'm the child, inheriting from both parents and my grandparent!\n"
     ]
    }
   ],
   "source": [
    "class Grandparent:\n",
    "    def grandparent_method(self):\n",
    "        print(\"I'm the grandparent!\")\n",
    "\n",
    "class Parent1(Grandparent): # Single inheritance: inherits from one parent\n",
    "    def parent1_method(self):\n",
    "        print(\"I'm the first parent!\")\n",
    "\n",
    "class Parent2:\n",
    "    def parent2_method(self):\n",
    "        print(\"I'm the second parent!\")\n",
    "\n",
    "class Child(Parent1, Parent2):  # Hybrid inheritance: inherits from two parents\n",
    "    def child_method(self):\n",
    "        print(\"I'm the child, inheriting from both parents and my grandparent!\")\n",
    "\n",
    "# Create a child object\n",
    "child = Child()\n",
    "\n",
    "# Call methods from all ancestors\n",
    "child.grandparent_method()  # Output: I'm the grandparent!\n",
    "child.parent1_method()     # Output: I'm the first parent!\n",
    "child.parent2_method()     # Output: I'm the second parent!\n",
    "child.child_method()       # Output: I'm the child, inheriting from both parents and my grandparent!"
   ]
  },
  {
   "cell_type": "markdown",
   "metadata": {},
   "source": [
    "## Key Points:\n",
    "Hybrid inheritance can create complex class relationships.\n",
    "\n",
    "It's important to understand method resolution order (MRO) to determine which method is called when there are multiple options from different ancestors.\n",
    "\n",
    "While powerful, use hybrid inheritance with caution as it can introduce complexity and potential for errors.\n",
    "\n",
    "Consider design patterns like composition over inheritance when appropriate to manage complexity and avoid potential issues."
   ]
  }
 ],
 "metadata": {
  "kernelspec": {
   "display_name": "py12",
   "language": "python",
   "name": "python3"
  },
  "language_info": {
   "codemirror_mode": {
    "name": "ipython",
    "version": 3
   },
   "file_extension": ".py",
   "mimetype": "text/x-python",
   "name": "python",
   "nbconvert_exporter": "python",
   "pygments_lexer": "ipython3",
   "version": "3.12.0"
  }
 },
 "nbformat": 4,
 "nbformat_minor": 2
}
