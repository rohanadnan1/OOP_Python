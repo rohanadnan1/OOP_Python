{
 "cells": [
  {
   "cell_type": "markdown",
   "metadata": {},
   "source": [
    "# Hierarchical Inheritance:\n",
    "If multiple derived classes are created from the same base, this kind of Inheritance is known as hierarchical inheritance."
   ]
  },
  {
   "cell_type": "markdown",
   "metadata": {},
   "source": [
    "## More easy explaination:\n",
    "Imagine a family tree:\n",
    "\n",
    "Parents and grandparents pass down traits to their children and grandchildren.\n",
    "This creates a hierarchy, where each generation builds upon the characteristics of the previous ones.\n",
    "Hierarchical inheritance in Python works similarly:\n",
    "\n",
    "Classes can inherit features from other classes, forming a \"family tree\" of related classes.\n",
    "This allows for code reusability and the creation of more specialized classes without repeating code.\n",
    "Here's a breakdown:\n",
    "\n",
    "1 Base Class:\n",
    "\n",
    "Like the \"grandparent\" in the family tree.\n",
    "Defines the basic characteristics and behaviors that will be shared by all its subclasses.\n",
    "Example: Animal class with attributes like has_fur and can_move.\n",
    "\n",
    "2 Subclasses:\n",
    "\n",
    "Like the \"children\" of the base class.\n",
    "Inherit features from the base class, but can also add their own unique attributes and methods.\n",
    "Example: Dog class inherits from Animal, adding barks and wags_tail.\n",
    "\n",
    "3 Multi-level Inheritance:\n",
    "\n",
    "Subclasses can inherit from other subclasses, creating a multi-level hierarchy.\n",
    "Example: GoldenRetriever inherits from Dog, adding loves_fetch.\n",
    "Key points:\n",
    "\n",
    "Classes inherit from each other using the class Subclass(BaseClass): syntax.\n",
    "Subclasses can access and use inherited attributes and methods directly.\n",
    "The super() function allows subclasses to call methods from their parent classes.\n",
    "Benefits:\n",
    "\n",
    "Code reusability: Avoids repeating code across multiple classes.\n",
    "Specialization: Create more specific classes without losing shared functionality.\n",
    "Organization: Helps structure code in a logical and maintainable way.\n",
    "Remember:\n",
    "\n",
    "Use inheritance wisely to avoid overly complex class hierarchies.\n",
    "Design classes thoughtfully to create clear and meaningful relationships."
   ]
  },
  {
   "cell_type": "code",
   "execution_count": null,
   "metadata": {},
   "outputs": [],
   "source": [
    "class Employee:\n",
    "    def __init__(self, name, age, salary):\n",
    "        self.name = name\n",
    "        self.age = age\n",
    "        self.salary = salary\n",
    "\n",
    "    def work(self):\n",
    "        print(f\"{self.name} is working.\")\n",
    "\n",
    "class Manager(Employee):\n",
    "    def __init__(self, name, age, salary, team_size):\n",
    "        super().__init__(name, age, salary)\n",
    "        self.team_size = team_size\n",
    "\n",
    "    def lead_team(self):\n",
    "        print(f\"{self.name} is leading a team of {self.team_size} employees.\")\n",
    "\n",
    "class Developer(Employee):\n",
    "    def __init__(self, name, age, salary, programming_language):\n",
    "        super().__init__(name, age, salary)\n",
    "        self.programming_language = programming_language\n",
    "\n",
    "    def code(self):\n",
    "        print(f\"{self.name} is coding in {self.programming_language}.\")\n",
    "\n",
    "class ProjectLeader(Manager, Developer):  # Multiple inheritance\n",
    "    def __init__(self, name, age, salary, team_size, project_name, programming_language=\"Python\"):\n",
    "        Manager.__init__(self, name, age, salary, team_size)  # Correct order of arguments\n",
    "        Developer.__init__(self, name, age, salary, programming_language)\n",
    "        self.project_name = project_name\n",
    "\n",
    "    def manage_project(self):\n",
    "        print(f\"{self.name} is managing the {self.project_name} project.\")\n",
    "\n",
    "\n",
    "leader = ProjectLeader(\"Alice\", 35, 120000, 5, \"Project X\", programming_language=\"C++\")\n",
    "\n",
    "leader.work()  \n",
    "leader.lead_team()  \n",
    "leader.code()  \n",
    "leader.manage_project() \n"
   ]
  }
 ],
 "metadata": {
  "kernelspec": {
   "display_name": "py12",
   "language": "python",
   "name": "python3"
  },
  "language_info": {
   "codemirror_mode": {
    "name": "ipython",
    "version": 3
   },
   "file_extension": ".py",
   "mimetype": "text/x-python",
   "name": "python",
   "nbconvert_exporter": "python",
   "pygments_lexer": "ipython3",
   "version": "3.12.0"
  }
 },
 "nbformat": 4,
 "nbformat_minor": 2
}
