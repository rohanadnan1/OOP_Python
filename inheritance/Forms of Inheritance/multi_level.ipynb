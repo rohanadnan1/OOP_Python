{
 "cells": [
  {
   "cell_type": "markdown",
   "metadata": {},
   "source": [
    "# Multilevel Inheritace:\n",
    "Multilevel Inheritance in Python is a type of Inheritance that involves inheriting a class that has already inherited some other class. That means the derived/subclass class inherits the features of the base class/parent class, and the new derived class inherits the features of the derived class"
   ]
  },
  {
   "cell_type": "markdown",
   "metadata": {},
   "source": [
    "For example, a class_1 is inherited by a class_2, and this class_2 also gets inherited by class_3, and this process goes on. This is known as multi-level inheritance. Let’s understand with an example:"
   ]
  },
  {
   "cell_type": "code",
   "execution_count": null,
   "metadata": {},
   "outputs": [],
   "source": [
    "class Parent:\n",
    "  def f1(self):\n",
    "    print(\"Function of parent class.\")\n",
    "\n",
    "class Child_1(Parent):\n",
    "  def f2(self):\n",
    "    print(\"Function of child_1 class.\")\n",
    "\n",
    "class Child_2(Child_1):\n",
    "  def f3(self):\n",
    "    print(\"Function of child_2 class.\")\n",
    "\n",
    "obj_1 = Child_1()\n",
    "obj_2 = Child_2()\n",
    "\n",
    "obj_1.f1()\n",
    "obj_1.f2()\n",
    "\n",
    "print(\"\\n\")\n",
    "obj_2.f1()\n",
    "obj_2.f2()\n",
    "obj_2.f3()"
   ]
  },
  {
   "cell_type": "markdown",
   "metadata": {},
   "source": [
    "# Some other Example:"
   ]
  },
  {
   "cell_type": "code",
   "execution_count": 6,
   "metadata": {},
   "outputs": [
    {
     "data": {
      "text/plain": [
       "'Rohan is 22 years old.'"
      ]
     },
     "execution_count": 6,
     "metadata": {},
     "output_type": "execute_result"
    }
   ],
   "source": [
    "class Person:\n",
    "    def __init__(self, name, age):\n",
    "        self.name = name\n",
    "        self.age = age\n",
    "\n",
    "    def get_person_details(self):\n",
    "        return f'{self.name} is {self.age} years old.'\n",
    "    \n",
    "class Student(Person):\n",
    "    def __init__(self, name, age, class_no):\n",
    "        super().__init__(name, age)\n",
    "        self.class_no = class_no\n",
    "\n",
    "    def get_student_details(self):\n",
    "         return f'{self.name} is {self.age} years old and is in class {self.class_no}.'    \n",
    "       \n",
    "class Teacher(Student):\n",
    "    def __init__(self, name, age, class_no, salary, gender):\n",
    "        super().__init__(name, age, class_no)\n",
    "        self.salary = salary\n",
    "        self.gender = gender\n",
    "        if self.gender == 'male':\n",
    "            self.gender = 'he'\n",
    "        else:\n",
    "            self.gender = 'she'\n",
    "\n",
    "    def get_Teacher_details(self):\n",
    "        return f'{self.name} is {self.age} years old and teaches in class {self.class_no} {self.gender} earns {self.salary}.'\n",
    "\n",
    "teacher = Teacher('Rohan', 22, 'ABC', 122234213, 'female')\n",
    "teacher.get_Teacher_details()\n",
    "\n",
    "## teacher parent class is Student if I try to access the get_student_details() method it will work\n",
    "\n",
    "teacher.get_student_details()\n",
    "\n",
    "## but the teacher parent class is not person so if I try to access the get_person_details() method it will work beacuse of multi level inheritance\n",
    "\n",
    "teacher.get_person_details()\n",
    "\n",
    "student = Student('Rohan', 22, 'ABC')\n",
    "student.get_student_details()\n",
    "student.get_person_details()\n",
    "\n",
    "# these two methods will work fine but if i try to access the get_Teacher_details() method it will not work because the teacher class is not the parent class of student class\n"
   ]
  },
  {
   "cell_type": "markdown",
   "metadata": {},
   "source": [
    "## A more easy and understandable explaination:\n",
    "Imagine you have a family tree:\n",
    "\n",
    "Grandpa Joe is at the top (like the base class in programming).\n",
    "Dad Michael inherits things from Grandpa Joe, like eyes and a love for pancakes (inherits attributes and methods).\n",
    "You inherit things from Dad Michael, like your sense of humor and your sweet tooth (inherits from the inherited things).\n",
    "Multi-level inheritance in programming is like this family tree. One class inherits features from another class, which itself inherited features from another class, and so on.\n",
    "\n",
    "Here's an example:\n",
    "\n",
    "Animal class: This is the \"Grandpa Joe\" of our program. It might have attributes like has_fur and can_move.\n",
    "Dog class: This inherits from Animal. It might add extra attributes like barks and wags_tail.\n",
    "Golden Retriever class: This inherits from Dog. It might add an attribute like loves_fetch.\n",
    "So, a Golden Retriever inherits everything from Animal (even though it wasn't directly connected). It's like getting Grandpa Joe's eyes and Dad Michael's sense of humor all in one package!\n",
    "\n",
    "Multi-level inheritance can be really useful for organizing your code and avoiding repeating yourself. But it's important to use it carefully, because too many levels can make your program confusing and hard to understand.\n",
    "\n",
    "Remember, you don't need a family tree of classes to have a great program! Use inheritance when it makes things simpler and clearer, but not just for the sake of having levels.\n",
    "\n",
    "I hope this explanation helps! Let me know if you have any other questions."
   ]
  }
 ],
 "metadata": {
  "kernelspec": {
   "display_name": "py12",
   "language": "python",
   "name": "python3"
  },
  "language_info": {
   "codemirror_mode": {
    "name": "ipython",
    "version": 3
   },
   "file_extension": ".py",
   "mimetype": "text/x-python",
   "name": "python",
   "nbconvert_exporter": "python",
   "pygments_lexer": "ipython3",
   "version": "3.12.0"
  }
 },
 "nbformat": 4,
 "nbformat_minor": 2
}
