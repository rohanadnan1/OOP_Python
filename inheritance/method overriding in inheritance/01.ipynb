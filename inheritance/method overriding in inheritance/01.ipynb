{
 "cells": [
  {
   "cell_type": "markdown",
   "metadata": {},
   "source": [
    "# Method Overriding in Inheritance in Python\n",
    "The concept of overriding is very important in inheritance. It gives the special ability to the child/\n",
    "subclasses to provide specific implementation to a method that is already present in their parent classes"
   ]
  },
  {
   "cell_type": "code",
   "execution_count": 1,
   "metadata": {},
   "outputs": [
    {
     "name": "stdout",
     "output_type": "stream",
     "text": [
      "Function of Child class.\n"
     ]
    }
   ],
   "source": [
    "class Parent:\n",
    "  def f1(self):\n",
    "    print(\"Function of Parent class.\")\n",
    "\n",
    "class Child(Parent):\n",
    "  def f1(self):\n",
    "    print(\"Function of Child class.\")\n",
    "\n",
    "obj = Child()\n",
    "obj.f1()"
   ]
  },
  {
   "cell_type": "markdown",
   "metadata": {},
   "source": [
    "Here the function f1() of the child class has overridden the function f1() of the parent class. Whenever the object of the child class invokes f1(), the function of the child class gets executed. However, the object of the parent class can invoke the function f1() of the parent class\n",
    "\n",
    "\n",
    "# Super() Function in Python:\n",
    "The super() function in Python returns a proxy object that references the parent class using the super keyword. This super() keyword is basically useful in accessing the overridden methods of the parent class.\n",
    "\n",
    "\n",
    "### Here's an explanation of super() in Python in easy words:\n",
    "\n",
    "Think of it like a special phone line to your parent class:\n",
    "\n",
    "Accessing Parent's Methods and Properties:\n",
    "\n",
    "When you want to use a method or property from the parent class within a child class, you use super() to make the call.\n",
    "It's like dialing up your parent class on a super phone to ask for help or borrow something they have.\n",
    "\n",
    "Building on Parent's Work:\n",
    "\n",
    "You can use super() to extend or modify the behavior of a parent class without rewriting its code.\n",
    "It's like taking what your parent already did and adding your own personal touch.\n",
    "\n",
    "Common Uses:\n",
    "\n",
    "Calling Parent's Constructor:\n",
    "\n",
    "When a child class has its own __init__() method (constructor), use super().__init__(...) to ensure the parent class's constructor is also called to properly initialize inherited attributes.\n",
    "It's like making sure your parent's setup is done before you do your own.\n",
    "\n",
    "Overriding Methods:\n",
    "\n",
    "If you want to change how a method from the parent class works in the child class, use super().method_name() to call the original parent's version, potentially adding your own code before or after.\n",
    "It's like saying, \"Hey parent, I'm doing things a bit differently, but I still want to use some of your stuff.\""
   ]
  },
  {
   "cell_type": "code",
   "execution_count": 2,
   "metadata": {},
   "outputs": [
    {
     "name": "stdout",
     "output_type": "stream",
     "text": [
      "Generic animal sound\n",
      "Woof!\n"
     ]
    }
   ],
   "source": [
    "class Animal:\n",
    "    def __init__(self, name):\n",
    "        self.name = name\n",
    "\n",
    "    def make_sound(self):\n",
    "        print(\"Generic animal sound\")\n",
    "\n",
    "class Dog(Animal):\n",
    "    def __init__(self, name, breed):\n",
    "        super().__init__(name)  # Call parent's constructor\n",
    "        self.breed = breed\n",
    "\n",
    "    def make_sound(self):\n",
    "        super().make_sound()  # Call parent's method first\n",
    "        print(\"Woof!\")  # Add child's specific sound\n",
    "\n",
    "dog = Dog(\"Fido\", \"Labrador\")\n",
    "dog.make_sound()  # Output: Generic animal sound\\nWoof!"
   ]
  },
  {
   "cell_type": "markdown",
   "metadata": {},
   "source": [
    "## Always Remember:\n",
    "super() helps you create well-organized classes that build upon each other without unnecessary duplication.\n",
    "It's essential for proper inheritance and method overriding in Python."
   ]
  }
 ],
 "metadata": {
  "kernelspec": {
   "display_name": "py12",
   "language": "python",
   "name": "python3"
  },
  "language_info": {
   "codemirror_mode": {
    "name": "ipython",
    "version": 3
   },
   "file_extension": ".py",
   "mimetype": "text/x-python",
   "name": "python",
   "nbconvert_exporter": "python",
   "pygments_lexer": "ipython3",
   "version": "3.12.0"
  }
 },
 "nbformat": 4,
 "nbformat_minor": 2
}
